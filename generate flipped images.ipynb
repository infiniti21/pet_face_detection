{
 "cells": [
  {
   "cell_type": "code",
   "execution_count": 1,
   "id": "8c55bf77",
   "metadata": {},
   "outputs": [],
   "source": [
    "import os\n",
    "import numpy as np\n",
    "import pandas as pd\n",
    "import xml.etree.ElementTree as ET\n",
    "import random\n",
    "import shutil\n",
    "from PIL import Image"
   ]
  },
  {
   "cell_type": "code",
   "execution_count": 2,
   "id": "f2e987db",
   "metadata": {},
   "outputs": [],
   "source": [
    "data_dir = os.getcwd()\n",
    "img_dir = os.path.join(data_dir, 'images')\n",
    "ann_dir = os.path.join(data_dir, 'annotations')\n",
    "ann_dir = os.path.join(ann_dir, 'xmls')"
   ]
  },
  {
   "cell_type": "code",
   "execution_count": 3,
   "id": "5dc70f42",
   "metadata": {},
   "outputs": [
    {
     "name": "stdout",
     "output_type": "stream",
     "text": [
      "3685\n"
     ]
    }
   ],
   "source": [
    "ann_names = {i.split('.')[0] for i in os.listdir(ann_dir)}\n",
    "img_names = {i.split('.')[0] for i in os.listdir(img_dir)}\n",
    "final_img_names = sorted([i+'.jpg' for i in list(ann_names.intersection(img_names))])\n",
    "print(len(final_img_names))"
   ]
  },
  {
   "cell_type": "code",
   "execution_count": 5,
   "id": "4c3c8b6a",
   "metadata": {},
   "outputs": [
    {
     "name": "stderr",
     "output_type": "stream",
     "text": [
      "C:\\Users\\Hp\\AppData\\Local\\Temp\\ipykernel_22788\\3162905777.py:3: DeprecationWarning: FLIP_TOP_BOTTOM is deprecated and will be removed in Pillow 10 (2023-07-01). Use Transpose.FLIP_TOP_BOTTOM instead.\n",
      "  v_flipped_image = im.transpose(Image.FLIP_TOP_BOTTOM)\n",
      "C:\\Users\\Hp\\AppData\\Local\\Temp\\ipykernel_22788\\3162905777.py:4: DeprecationWarning: FLIP_LEFT_RIGHT is deprecated and will be removed in Pillow 10 (2023-07-01). Use Transpose.FLIP_LEFT_RIGHT instead.\n",
      "  h_flipped_image = im.transpose(Image.FLIP_LEFT_RIGHT)\n"
     ]
    }
   ],
   "source": [
    "for name in final_img_names:\n",
    "    im = Image.open(os.path.join(img_dir, name))\n",
    "    v_flipped_image = im.transpose(Image.FLIP_TOP_BOTTOM)\n",
    "    h_flipped_image = im.transpose(Image.FLIP_LEFT_RIGHT)\n",
    "    v_flipped_image.save('VFL_{}'.format(name))\n",
    "    h_flipped_image.save('HFL_{}'.format(name))"
   ]
  },
  {
   "cell_type": "code",
   "execution_count": null,
   "id": "2ed198e0",
   "metadata": {},
   "outputs": [],
   "source": []
  }
 ],
 "metadata": {
  "kernelspec": {
   "display_name": "Python 3 (ipykernel)",
   "language": "python",
   "name": "python3"
  },
  "language_info": {
   "codemirror_mode": {
    "name": "ipython",
    "version": 3
   },
   "file_extension": ".py",
   "mimetype": "text/x-python",
   "name": "python",
   "nbconvert_exporter": "python",
   "pygments_lexer": "ipython3",
   "version": "3.10.1"
  }
 },
 "nbformat": 4,
 "nbformat_minor": 5
}
